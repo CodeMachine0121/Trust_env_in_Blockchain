{
 "cells": [
  {
   "cell_type": "code",
   "execution_count": 2,
   "id": "97d0deb3",
   "metadata": {},
   "outputs": [],
   "source": [
    "from ecc.curve import secp256k1 as s256\n",
    "from ecc.curve import Point\n",
    "from Crypto.Hash import HMAC, SHA256\n",
    "from Crypto.Random.random import getrandbits"
   ]
  },
  {
   "cell_type": "code",
   "execution_count": 27,
   "id": "1052d656",
   "metadata": {},
   "outputs": [],
   "source": [
    "P = s256.G\n",
    "q = s256.p\n",
    "k = int(getrandbits(512))\n",
    "kn = int(getrandbits(386))\n",
    "Kn = kn*P"
   ]
  },
  {
   "cell_type": "code",
   "execution_count": 28,
   "id": "4d510be5",
   "metadata": {},
   "outputs": [],
   "source": [
    "### Hash message\n",
    "m = b'Hello'\n",
    "H1 = HMAC.new(b'', digestmod=SHA256)\n",
    "H1.update(m)\n",
    "hm = int(H1.hexdigest(),16) %q"
   ]
  },
  {
   "cell_type": "code",
   "execution_count": 29,
   "id": "503367fa",
   "metadata": {},
   "outputs": [],
   "source": [
    "### Signing\n",
    "dn = (hm * (kn%q)) %q\n",
    "rn = (k-dn) %q"
   ]
  },
  {
   "cell_type": "code",
   "execution_count": 30,
   "id": "0cc77b37",
   "metadata": {},
   "outputs": [],
   "source": [
    "CH = hm*Kn + rn*P"
   ]
  },
  {
   "cell_type": "code",
   "execution_count": 31,
   "id": "2a07e62b",
   "metadata": {},
   "outputs": [
    {
     "data": {
      "text/plain": [
       "Point(X=99120864173895364432193713582587188160192591544175014770237033544683135572778, Y=48281548750610352058740902874176044942351823959261481172771887260024623987814, Curve=secp256k1)"
      ]
     },
     "execution_count": 31,
     "metadata": {},
     "output_type": "execute_result"
    }
   ],
   "source": [
    "CH"
   ]
  },
  {
   "cell_type": "code",
   "execution_count": 33,
   "id": "8eafad47",
   "metadata": {},
   "outputs": [],
   "source": [
    "#### message 2"
   ]
  },
  {
   "cell_type": "code",
   "execution_count": null,
   "id": "835a680b",
   "metadata": {},
   "outputs": [],
   "source": []
  },
  {
   "cell_type": "code",
   "execution_count": null,
   "id": "f1cef888",
   "metadata": {},
   "outputs": [],
   "source": []
  },
  {
   "cell_type": "code",
   "execution_count": null,
   "id": "d4d3235f",
   "metadata": {},
   "outputs": [],
   "source": []
  },
  {
   "cell_type": "code",
   "execution_count": null,
   "id": "4cba82f3",
   "metadata": {},
   "outputs": [],
   "source": []
  },
  {
   "cell_type": "code",
   "execution_count": null,
   "id": "a24cb21b",
   "metadata": {},
   "outputs": [],
   "source": []
  },
  {
   "cell_type": "code",
   "execution_count": null,
   "id": "6c378e6f",
   "metadata": {},
   "outputs": [],
   "source": []
  }
 ],
 "metadata": {
  "kernelspec": {
   "display_name": "Python 3 (ipykernel)",
   "language": "python",
   "name": "python3"
  },
  "language_info": {
   "codemirror_mode": {
    "name": "ipython",
    "version": 3
   },
   "file_extension": ".py",
   "mimetype": "text/x-python",
   "name": "python",
   "nbconvert_exporter": "python",
   "pygments_lexer": "ipython3",
   "version": "3.8.10"
  }
 },
 "nbformat": 4,
 "nbformat_minor": 5
}
