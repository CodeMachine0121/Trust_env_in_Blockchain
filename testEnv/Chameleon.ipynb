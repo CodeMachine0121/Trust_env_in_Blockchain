{
 "cells": [
  {
   "cell_type": "code",
   "execution_count": 89,
   "id": "26e61ad2",
   "metadata": {},
   "outputs": [],
   "source": [
    "from ecc.curve import secp256k1 as s256\n",
    "from ecc.curve import Point\n",
    "import hashlib\n",
    "from Crypto.Random.random import getrandbits"
   ]
  },
  {
   "cell_type": "code",
   "execution_count": 90,
   "id": "9f3dd7d7",
   "metadata": {},
   "outputs": [],
   "source": [
    "P = s256.G\n",
    "q = s256.p\n",
    "k = int(getrandbits(512))\n",
    "kP = k * P\n",
    "kn = int(getrandbits(386))\n",
    "Kn = kn * P"
   ]
  },
  {
   "cell_type": "code",
   "execution_count": 91,
   "id": "63631b5b",
   "metadata": {},
   "outputs": [],
   "source": [
    "### Hash message\n",
    "m = b'Hello'\n",
    "hm = int(hashlib.sha256(m).hexdigest(),16)"
   ]
  },
  {
   "cell_type": "code",
   "execution_count": 92,
   "id": "87062a5c",
   "metadata": {},
   "outputs": [],
   "source": [
    "### Signing\n",
    "dn = (hm * (kn))\n",
    "rn = (k-dn) "
   ]
  },
  {
   "cell_type": "code",
   "execution_count": 93,
   "id": "af38c9c6",
   "metadata": {},
   "outputs": [],
   "source": [
    "CH = hm*Kn + rn*P"
   ]
  },
  {
   "cell_type": "code",
   "execution_count": 94,
   "id": "089376ea",
   "metadata": {},
   "outputs": [
    {
     "data": {
      "text/plain": [
       "Point(X=34665909093378322670869875356339113900788870760036975691320749386486911682781, Y=69090482109198808518911512913801090064936661214190946581019596689361723830818, Curve=secp256k1)"
      ]
     },
     "execution_count": 94,
     "metadata": {},
     "output_type": "execute_result"
    }
   ],
   "source": [
    "CH"
   ]
  },
  {
   "cell_type": "code",
   "execution_count": 97,
   "id": "6983769f",
   "metadata": {},
   "outputs": [
    {
     "data": {
      "text/plain": [
       "True"
      ]
     },
     "execution_count": 97,
     "metadata": {},
     "output_type": "execute_result"
    }
   ],
   "source": [
    "k* P == CH"
   ]
  },
  {
   "cell_type": "code",
   "execution_count": null,
   "id": "4b5ffea5",
   "metadata": {},
   "outputs": [],
   "source": []
  },
  {
   "cell_type": "code",
   "execution_count": null,
   "id": "96a6165b",
   "metadata": {},
   "outputs": [],
   "source": []
  },
  {
   "cell_type": "code",
   "execution_count": 88,
   "id": "9ca53789",
   "metadata": {},
   "outputs": [
    {
     "name": "stdout",
     "output_type": "stream",
     "text": [
      "Point(X=101896302455360686361910482709832340746744744988014878399554968222578752766355, Y=30988381623095926996072799456942944633705853615843599895565170284934808739578, Curve=secp256k1)\n",
      "Point(X=101896302455360686361910482709832340746744744988014878399554968222578752766355, Y=30988381623095926996072799456942944633705853615843599895565170284934808739578, Curve=secp256k1)\n",
      "Point(X=101896302455360686361910482709832340746744744988014878399554968222578752766355, Y=30988381623095926996072799456942944633705853615843599895565170284934808739578, Curve=secp256k1)\n"
     ]
    }
   ],
   "source": [
    "print(k*kn*P)\n",
    "print(k*(kn*P))\n",
    "print((k*kn)*P)\n"
   ]
  },
  {
   "cell_type": "code",
   "execution_count": null,
   "id": "7f4a4e8b",
   "metadata": {},
   "outputs": [],
   "source": []
  },
  {
   "cell_type": "code",
   "execution_count": null,
   "id": "d40401b1",
   "metadata": {},
   "outputs": [],
   "source": []
  },
  {
   "cell_type": "code",
   "execution_count": null,
   "id": "1d1bea90",
   "metadata": {},
   "outputs": [],
   "source": []
  },
  {
   "cell_type": "code",
   "execution_count": null,
   "id": "e8368881",
   "metadata": {},
   "outputs": [],
   "source": []
  },
  {
   "cell_type": "code",
   "execution_count": null,
   "id": "230cc34f",
   "metadata": {},
   "outputs": [],
   "source": []
  },
  {
   "cell_type": "code",
   "execution_count": null,
   "id": "c18e219c",
   "metadata": {},
   "outputs": [],
   "source": []
  },
  {
   "cell_type": "code",
   "execution_count": null,
   "id": "8d8f1901",
   "metadata": {},
   "outputs": [],
   "source": []
  },
  {
   "cell_type": "code",
   "execution_count": null,
   "id": "4a6dd1ce",
   "metadata": {},
   "outputs": [],
   "source": []
  }
 ],
 "metadata": {
  "kernelspec": {
   "display_name": "Python 3 (ipykernel)",
   "language": "python",
   "name": "python3"
  },
  "language_info": {
   "codemirror_mode": {
    "name": "ipython",
    "version": 3
   },
   "file_extension": ".py",
   "mimetype": "text/x-python",
   "name": "python",
   "nbconvert_exporter": "python",
   "pygments_lexer": "ipython3",
   "version": "3.8.10"
  }
 },
 "nbformat": 4,
 "nbformat_minor": 5
}
