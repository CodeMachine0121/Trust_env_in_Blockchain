{
 "cells": [
  {
   "cell_type": "code",
   "execution_count": 2,
   "id": "26e61ad2",
   "metadata": {},
   "outputs": [],
   "source": [
    "from ecc.curve import secp256k1 as s256\n",
    "from ecc.curve import Point\n",
    "import hashlib\n",
    "from Crypto.Random.random import getrandbits"
   ]
  },
  {
   "cell_type": "code",
   "execution_count": 2,
   "id": "9f3dd7d7",
   "metadata": {},
   "outputs": [],
   "source": [
    "P = s256.G\n",
    "q = s256.p\n",
    "k = int(getrandbits(2048))\n",
    "kP = k * P\n",
    "kn = int(getrandbits(2048))\n",
    "Kn = kn * P"
   ]
  },
  {
   "cell_type": "code",
   "execution_count": 3,
   "id": "63631b5b",
   "metadata": {},
   "outputs": [],
   "source": [
    "### Hash message\n",
    "m = b'Hello'\n",
    "hm = int(hashlib.sha256(m).hexdigest(),16)"
   ]
  },
  {
   "cell_type": "code",
   "execution_count": 4,
   "id": "87062a5c",
   "metadata": {},
   "outputs": [],
   "source": [
    "### Signing\n",
    "dn = (hm * (kn))\n",
    "rn = (k-dn) "
   ]
  },
  {
   "cell_type": "code",
   "execution_count": 5,
   "id": "af38c9c6",
   "metadata": {},
   "outputs": [],
   "source": [
    "CH = hm*Kn + rn*P"
   ]
  },
  {
   "cell_type": "code",
   "execution_count": 6,
   "id": "089376ea",
   "metadata": {},
   "outputs": [
    {
     "data": {
      "text/plain": [
       "Point(X=91712153400553699387056814409968526368185124140515572836676513550663170595040, Y=111707799388567230144874364412822783627679921453613362823127960334873192398050, Curve=secp256k1)"
      ]
     },
     "execution_count": 6,
     "metadata": {},
     "output_type": "execute_result"
    }
   ],
   "source": [
    "CH"
   ]
  },
  {
   "cell_type": "code",
   "execution_count": 7,
   "id": "6983769f",
   "metadata": {},
   "outputs": [
    {
     "data": {
      "text/plain": [
       "True"
      ]
     },
     "execution_count": 7,
     "metadata": {},
     "output_type": "execute_result"
    }
   ],
   "source": [
    "k* P == CH"
   ]
  },
  {
   "cell_type": "code",
   "execution_count": null,
   "id": "4b5ffea5",
   "metadata": {},
   "outputs": [],
   "source": []
  },
  {
   "cell_type": "code",
   "execution_count": null,
   "id": "96a6165b",
   "metadata": {},
   "outputs": [],
   "source": []
  },
  {
   "cell_type": "code",
   "execution_count": 8,
   "id": "9ca53789",
   "metadata": {},
   "outputs": [
    {
     "name": "stdout",
     "output_type": "stream",
     "text": [
      "Point(X=23347945913710096947348099172937461309192354037989053285473512926946746284864, Y=115500476952066647386700419892119859255510425172933069834129227203099700876607, Curve=secp256k1)\n",
      "Point(X=23347945913710096947348099172937461309192354037989053285473512926946746284864, Y=115500476952066647386700419892119859255510425172933069834129227203099700876607, Curve=secp256k1)\n",
      "Point(X=23347945913710096947348099172937461309192354037989053285473512926946746284864, Y=115500476952066647386700419892119859255510425172933069834129227203099700876607, Curve=secp256k1)\n"
     ]
    }
   ],
   "source": [
    "print(k*kn*P)\n",
    "print(k*(kn*P))\n",
    "print((k*kn)*P)\n"
   ]
  },
  {
   "cell_type": "code",
   "execution_count": null,
   "id": "7f4a4e8b",
   "metadata": {},
   "outputs": [],
   "source": []
  },
  {
   "cell_type": "code",
   "execution_count": null,
   "id": "d40401b1",
   "metadata": {},
   "outputs": [],
   "source": []
  },
  {
   "cell_type": "code",
   "execution_count": null,
   "id": "1d1bea90",
   "metadata": {},
   "outputs": [],
   "source": []
  },
  {
   "cell_type": "code",
   "execution_count": 9,
   "id": "e8368881",
   "metadata": {},
   "outputs": [],
   "source": [
    "P1 = Point(2, 69211104694897500952317515077652022726490027694212560352756646854116994689233, curve=s256)\n",
    "P2 = P1*2"
   ]
  },
  {
   "cell_type": "code",
   "execution_count": 10,
   "id": "7bb2a4b6",
   "metadata": {},
   "outputs": [
    {
     "name": "stdout",
     "output_type": "stream",
     "text": [
      "[+]P1: \n",
      "\tx: 2\n",
      "\ty: 69211104694897500952317515077652022726490027694212560352756646854116994689233\n",
      "[+]P2: \n",
      "\tx: 23158417847463239084714197001737581570653996933128112807891516801581766934331\n",
      "\ty: 25821202496262252602076867233819373685524812798827903993634621255495124276396\n"
     ]
    }
   ],
   "source": [
    "print(\"[+]P1: \\n\\tx: {}\\n\\ty: {}\".format(P1.x,P1.y))\n",
    "print(\"[+]P2: \\n\\tx: {}\\n\\ty: {}\".format(P2.x,P2.y))"
   ]
  },
  {
   "cell_type": "code",
   "execution_count": 7,
   "id": "4fd1c834",
   "metadata": {},
   "outputs": [],
   "source": [
    "from Crypto.Util.number import inverse\n"
   ]
  },
  {
   "cell_type": "code",
   "execution_count": 12,
   "id": "2499deb2",
   "metadata": {},
   "outputs": [],
   "source": [
    "s = (3 * P1.x * P1.x + 0) * inverse(2 * P1.y, s256.p)\n",
    "res_x = (s * s - 2 * P1.x) % s256.p\n",
    "res_y = ((P1.y + s * (res_x - P1.x))*-1) % s256.p"
   ]
  },
  {
   "cell_type": "code",
   "execution_count": 13,
   "id": "d44d0666",
   "metadata": {},
   "outputs": [
    {
     "name": "stdout",
     "output_type": "stream",
     "text": [
      "[+]res: \n",
      "\tx: 23158417847463239084714197001737581570653996933128112807891516801581766934331\n",
      "\ty: 25821202496262252602076867233819373685524812798827903993634621255495124276396\n"
     ]
    }
   ],
   "source": [
    "print(\"[+]res: \\n\\tx: {}\\n\\ty: {}\".format(res_x,res_y))"
   ]
  },
  {
   "cell_type": "code",
   "execution_count": null,
   "id": "451b0acc",
   "metadata": {},
   "outputs": [],
   "source": []
  },
  {
   "cell_type": "code",
   "execution_count": null,
   "id": "ec571833",
   "metadata": {},
   "outputs": [],
   "source": []
  },
  {
   "cell_type": "code",
   "execution_count": null,
   "id": "230cc34f",
   "metadata": {},
   "outputs": [],
   "source": []
  },
  {
   "cell_type": "code",
   "execution_count": 10,
   "id": "c18e219c",
   "metadata": {},
   "outputs": [],
   "source": [
    "P1 = s256.G"
   ]
  },
  {
   "cell_type": "code",
   "execution_count": 11,
   "id": "a7024fd7",
   "metadata": {},
   "outputs": [],
   "source": [
    "P2 = Point(3, 94471189679404635060807731153122836805497974241028285133722790318709222555876, curve=s256)"
   ]
  },
  {
   "cell_type": "code",
   "execution_count": 12,
   "id": "3e312712",
   "metadata": {},
   "outputs": [
    {
     "name": "stdout",
     "output_type": "stream",
     "text": [
      "[+]P3: \n",
      "\tx: 28585980124488186209009379154463624020045274891311443859073276858839549786212\n",
      "\ty: 52129205225679141640626307625417497082557460325966048804393747098292420670917\n"
     ]
    }
   ],
   "source": [
    "P3 = P1+P2\n",
    "print(\"[+]P3: \\n\\tx: {}\\n\\ty: {}\".format(P3.x, P3.y))"
   ]
  },
  {
   "cell_type": "code",
   "execution_count": 13,
   "id": "8d8f1901",
   "metadata": {},
   "outputs": [
    {
     "name": "stdout",
     "output_type": "stream",
     "text": [
      "[+]P3: \n",
      "\tx: 28585980124488186209009379154463624020045274891311443859073276858839549786212\n",
      "\ty: 52129205225679141640626307625417497082557460325966048804393747098292420670917\n"
     ]
    }
   ],
   "source": [
    "delta_x = P2.x - P1.x\n",
    "delta_y = P2.y - P1.y\n",
    "\n",
    "s = delta_y * inverse(delta_x, s256.p)\n",
    "res_x = (s * s - P1.x - P2.x) % s256.p\n",
    "res_y = -(P1.y + s * (res_x - P1.x)) % s256.p\n",
    "print(\"[+]P3: \\n\\tx: {}\\n\\ty: {}\".format(res_x,res_y))"
   ]
  },
  {
   "cell_type": "code",
   "execution_count": null,
   "id": "4a6dd1ce",
   "metadata": {},
   "outputs": [],
   "source": []
  }
 ],
 "metadata": {
  "kernelspec": {
   "display_name": "Python 3 (ipykernel)",
   "language": "python",
   "name": "python3"
  },
  "language_info": {
   "codemirror_mode": {
    "name": "ipython",
    "version": 3
   },
   "file_extension": ".py",
   "mimetype": "text/x-python",
   "name": "python",
   "nbconvert_exporter": "python",
   "pygments_lexer": "ipython3",
   "version": "3.8.10"
  }
 },
 "nbformat": 4,
 "nbformat_minor": 5
}
